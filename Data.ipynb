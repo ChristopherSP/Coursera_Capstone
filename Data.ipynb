{
 "cells": [
  {
   "cell_type": "markdown",
   "metadata": {},
   "source": [
    "# Data\n",
    "\n",
    "The data (downloaded from the [Seattle GeoData website](https://data-seattlecitygis.opendata.arcgis.com/datasets/5b5c745e0f1f48e7a53acec63a0022ab_0)), weekly recorded by Traffic Records and provided by the Seattle Police Department, contains around 40 variables from a total of 221.525 accidents that occurred between 01/01/2004 and 20/05/2020. The dataset has a lot of cleaning to do, given the high amount of missing information, a total of 1.100.024 fields across the entire dataset. Apart from that, the dependent variable SEVERITY is unbalanced, for instance, the \"Property Damage Only Collision\" class is twice as many as the \"Injury Collision\", the second most frequent class, as the former has 137.671 observation and the latter has only 58.783.\n",
    " \n",
    "Some of these variables will definitely be excluded as almost all rows are blank, as others will be removed because are redundant, such as coded variables that already have its description in another column, eg.: SDOT_COLCODE and SDOT_COLDESC. Given the probable usage for the final machine learning model, some variables will be kept regardless of the missing information but probably the rows will either be removed or estimated, for example using the column mean, when dealing with numerical attributes, or the column mode, for categorical ones.  "
   ]
  }
 ],
 "metadata": {
  "kernelspec": {
   "display_name": "Python 3",
   "language": "python",
   "name": "python3"
  },
  "language_info": {
   "codemirror_mode": {
    "name": "ipython",
    "version": 3
   },
   "file_extension": ".py",
   "mimetype": "text/x-python",
   "name": "python",
   "nbconvert_exporter": "python",
   "pygments_lexer": "ipython3",
   "version": "3.8.3"
  }
 },
 "nbformat": 4,
 "nbformat_minor": 4
}
