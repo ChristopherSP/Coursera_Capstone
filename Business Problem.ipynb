{
 "cells": [
  {
   "cell_type": "markdown",
   "metadata": {},
   "source": [
    "# Introduction/Business Problem\n",
    "\n",
    "Waze is one of the most popular GPS app providing turn-by-turn navigation information based on optimized routes as well as ATA, speed cameras, and traffic police radars. It became a huge success based on its community-driven navigation aspect, where users are rewarded and ranked by helping each other, registering traffic occurrences in real-time such as police, traffic jams, and accidents.\n",
    "\n",
    "But what if we could do better than rely on users to add the information of this accidents after they occur and instead we could warn users, given the weather, the road conditions, and many possible variables, about the possibility of them getting into a car accident and how severe it would be so that they would drive more carefully or even change there travel if they are able to. Wouldn't that be great?\n",
    "\n",
    "Not only the users would benefit from this directly by having access 24/7 to this information but traffic police could allocate its resources to better monitor risky areas, which would decrease incidents leading people to the hospital which in turn would reduce the amount of money spent on public health that could be invested in other areas that have a budget deficiency, therefore improving all the city environment."
   ]
  }
 ],
 "metadata": {
  "kernelspec": {
   "display_name": "Python 3",
   "language": "python",
   "name": "python3"
  },
  "language_info": {
   "codemirror_mode": {
    "name": "ipython",
    "version": 3
   },
   "file_extension": ".py",
   "mimetype": "text/x-python",
   "name": "python",
   "nbconvert_exporter": "python",
   "pygments_lexer": "ipython3",
   "version": "3.8.3"
  }
 },
 "nbformat": 4,
 "nbformat_minor": 4
}
